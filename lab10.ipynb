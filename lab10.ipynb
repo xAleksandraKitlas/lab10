{
  "nbformat": 4,
  "nbformat_minor": 0,
  "metadata": {
    "colab": {
      "provenance": [],
      "toc_visible": true
    },
    "kernelspec": {
      "name": "python3",
      "display_name": "Python 3"
    },
    "language_info": {
      "name": "python"
    }
  },
  "cells": [
    {
      "cell_type": "markdown",
      "source": [
        "najpierw instalujemy srodowisko"
      ],
      "metadata": {
        "id": "Ky0s-1S91YM1"
      }
    },
    {
      "cell_type": "code",
      "execution_count": null,
      "metadata": {
        "colab": {
          "base_uri": "https://localhost:8080/"
        },
        "id": "pLWMTs0r1Ish",
        "outputId": "cc78faee-1e31-4c9b-eba5-0d346477b7d6"
      },
      "outputs": [
        {
          "output_type": "stream",
          "name": "stdout",
          "text": [
            "nvcc: NVIDIA (R) Cuda compiler driver\n",
            "Copyright (c) 2005-2021 NVIDIA Corporation\n",
            "Built on Sun_Feb_14_21:12:58_PST_2021\n",
            "Cuda compilation tools, release 11.2, V11.2.152\n",
            "Build cuda_11.2.r11.2/compiler.29618528_0\n",
            "Looking in indexes: https://pypi.org/simple, https://us-python.pkg.dev/colab-wheels/public/simple/\n",
            "Collecting git+https://github.com/andreinechaev/nvcc4jupyter.git\n",
            "  Cloning https://github.com/andreinechaev/nvcc4jupyter.git to /tmp/pip-req-build-_bh0dwbs\n",
            "  Running command git clone --filter=blob:none --quiet https://github.com/andreinechaev/nvcc4jupyter.git /tmp/pip-req-build-_bh0dwbs\n",
            "  Resolved https://github.com/andreinechaev/nvcc4jupyter.git to commit aac710a35f52bb78ab34d2e52517237941399eff\n",
            "  Preparing metadata (setup.py) ... \u001b[?25l\u001b[?25hdone\n",
            "Building wheels for collected packages: NVCCPlugin\n",
            "  Building wheel for NVCCPlugin (setup.py) ... \u001b[?25l\u001b[?25hdone\n",
            "  Created wheel for NVCCPlugin: filename=NVCCPlugin-0.0.2-py3-none-any.whl size=4304 sha256=c151cb95cea0b13c4f7ec17546bb319d29f0034212a98372edfefae2a7216528\n",
            "  Stored in directory: /tmp/pip-ephem-wheel-cache-f4kcrjcz/wheels/f3/08/cc/e2b5b0e1c92df07dbb50a6f024a68ce090f5e7b2316b41756d\n",
            "Successfully built NVCCPlugin\n",
            "Installing collected packages: NVCCPlugin\n",
            "Successfully installed NVCCPlugin-0.0.2\n",
            "created output directory at /content/src\n",
            "Out bin /content/result.out\n"
          ]
        }
      ],
      "source": [
        "!nvcc --version\n",
        "!pip install git+https://github.com/andreinechaev/nvcc4jupyter.git\n",
        "%load_ext nvcc_plugin"
      ]
    },
    {
      "cell_type": "markdown",
      "source": [
        "**metoda prostokątów na CPU**<br>\n",
        "xp <- początek przedziału<br>\n",
        "xk <- koniec przedziału<br>\n",
        "n <- ustawiamy ilosc \"prostokątów\" <br>\n",
        "w f1 możemy zedytować i dodac funkcje jaką chcemy<br>"
      ],
      "metadata": {
        "id": "rAWDZS741XhH"
      }
    },
    {
      "cell_type": "code",
      "source": [
        "%%cu\n",
        "#include <iostream>\n",
        "#include <cstdlib>\n",
        "\n",
        "using namespace std;\n",
        "\n",
        "// funkcja do scalkowania\n",
        "double f1(double x) { return -x*x-x+20; }\n",
        "\n",
        "int main()\n",
        "{\n",
        "    float xp, xk, h, calka;\n",
        "    int n;\n",
        "\n",
        "    // przedzialy\n",
        "    xp = -2;\n",
        "    xk = 1;\n",
        "\n",
        "    // im wieksze n tym wieksza dokladnosc (tym wiecej prostokątow)\n",
        "    n = 12;\n",
        "\n",
        "    h = (xk - xp) / (float)n;\n",
        "\n",
        "    cout << \"krok: h=\" << h << endl;\n",
        "\n",
        "    calka = 0;\n",
        "\n",
        "    for (int i=1; i<=n; i++)\n",
        "    {\n",
        "        calka += f1(xp + i*h)*h;\n",
        "    }\n",
        "\n",
        "    cout << \"Wynik calkowania metoda prostokatow: \" <<  calka << endl;\n",
        "\n",
        "    system(\"PAUSE\");\n",
        "    return 0;\n",
        "}  "
      ],
      "metadata": {
        "colab": {
          "base_uri": "https://localhost:8080/"
        },
        "id": "aTODUauT1mw3",
        "outputId": "a1b1387a-f033-49e8-cab6-cedb4c7daa7b"
      },
      "execution_count": null,
      "outputs": [
        {
          "output_type": "stream",
          "name": "stdout",
          "text": [
            "krok: h=0.25\n",
            "Wynik calkowania metoda prostokatow: 58.4688\n",
            "sh: 1: PAUSE: not found\n",
            "\n"
          ]
        }
      ]
    },
    {
      "cell_type": "markdown",
      "source": [
        "**metoda prostokątów CPU**<br>\n",
        "xp <- początek przedziału<br>\n",
        "xk <- koniec przedziału<br>\n",
        "n <- ustawiamy ilosc \"prostokątów\" <br>\n",
        "w f1 możemy zedytować i dodac funkcje jaką chcemy<br>"
      ],
      "metadata": {
        "id": "S6rWZRDO27pZ"
      }
    },
    {
      "cell_type": "markdown",
      "source": [
        "**opis metody prostokątów**<br>\n",
        "Metoda trapezów daje dość dokładne wyniki, szczególnie przy dużej dokładności N. Polega ona na podzieleniu obszaru całowanego na x trapezów (przedziałów), których pola na końcu sumuje się."
      ],
      "metadata": {
        "id": "cZvP86dR31wY"
      }
    },
    {
      "cell_type": "code",
      "source": [
        "%%cu\n",
        "#include <iostream>\n",
        "#include <cstdlib>\n",
        "\n",
        "using namespace std;\n",
        "\n",
        "// funkcja do scalkowania\n",
        "double f1(double x) { return -x*x-x+20; }\n",
        "\n",
        "int main()\n",
        "{\n",
        "    float xp, xk, h, calka;\n",
        "    int n;\n",
        "\n",
        "    // przedzialy\n",
        "    xp = -2;\n",
        "    xk = 1;\n",
        "\n",
        "    // im wieksze n tym wieksza dokladnośc (np. n=1000)\n",
        "    n = 10;\n",
        "\n",
        "    h = (xk - xp) / (float)n;\n",
        "\n",
        "    cout << \"krok: h=\" << h << endl;\n",
        "\n",
        "    calka = 0;\n",
        "    for (int i=1; i<n; i++)\n",
        "    {\n",
        "        calka += f1(xp + i * h);\n",
        "    }\n",
        "    calka += f1(xp) / 2;\n",
        "    calka += f1(xk) / 2;\n",
        "    calka *= h;\n",
        "\n",
        "    cout << \"Wynik calkowania: \" <<  calka << endl;\n",
        "\n",
        "    system(\"PAUSE\");\n",
        "\n",
        "    return 0;\n",
        "}"
      ],
      "metadata": {
        "colab": {
          "base_uri": "https://localhost:8080/"
        },
        "id": "w98e9uNR2zJ7",
        "outputId": "830a08cf-a5e4-4f93-e5c1-4124407466f9"
      },
      "execution_count": null,
      "outputs": [
        {
          "output_type": "stream",
          "name": "stdout",
          "text": [
            "krok: h=0.3\n",
            "Wynik calkowania: 58.455\n",
            "sh: 1: PAUSE: not found\n",
            "\n"
          ]
        }
      ]
    },
    {
      "cell_type": "markdown",
      "source": [
        "** metoda simpsona CPU**<br>\n",
        "xp <- początek przedziału<br>\n",
        "xk <- koniec przedziału<br>\n",
        "n <- ustawiamy ilosc \"prostokątów\" <br>\n",
        "w f1 możemy zedytować i dodac funkcje jaką chcemy<br>"
      ],
      "metadata": {
        "id": "IONc1UE8BuUY"
      }
    },
    {
      "cell_type": "code",
      "source": [
        "%%cu\n",
        "#include <iostream>\n",
        "#include <cstdlib>\n",
        "float f1(float x) {\n",
        " return -x*x-x+20;\n",
        "}\n",
        " \n",
        "//get data, algorithm\n",
        "int main(){\n",
        "float xp, xk, dx, calka, s, x;\n",
        "int i, n;\n",
        " \n",
        "    // przedzialy\n",
        "    xp = -2;\n",
        "    xk = 1;\n",
        "\n",
        "    // im wieksze n tym wieksza dokladnośc (np. n=1000)\n",
        "    n = 3;\n",
        "dx = (xk - xp) / (float)n;\n",
        " \n",
        "calka = 0;\n",
        "s = 0;\n",
        "for (i=1; i<n; i++) {\n",
        "x = xp + i*dx;\n",
        "s += f1(x - dx / 2);\n",
        "calka += f1(x);\n",
        "}\n",
        "s += f1(xk - dx / 2);\n",
        "calka = (dx/6) * (f1(xp) + f1(xk) + 2*calka + 4*s);\n",
        " \n",
        " \n",
        "printf(\"Wartosc calki wynosi w przyblizeniu %f\\n\", calka);\n",
        " \n",
        "return 0;\n",
        "}"
      ],
      "metadata": {
        "colab": {
          "base_uri": "https://localhost:8080/"
        },
        "id": "BdCX3vPy5tRp",
        "outputId": "2d992034-4cee-4e5c-de30-52c4b98703be"
      },
      "execution_count": null,
      "outputs": [
        {
          "output_type": "stream",
          "name": "stdout",
          "text": [
            "Wartosc calki wynosi w przyblizeniu 58.500000\n",
            "\n"
          ]
        }
      ]
    },
    {
      "cell_type": "markdown",
      "source": [
        "**metoda simpsona gpu**"
      ],
      "metadata": {
        "id": "UbolY3_qC3WC"
      }
    },
    {
      "cell_type": "code",
      "source": [
        "%%cu\n",
        "\n",
        "#include <iostream>\n",
        "\n",
        "\n",
        "// tutaj dzielimy problem na mniejsze problemy\n",
        "    __device__ void initThreadBounds(int *n_start, int *n_end, int n, \n",
        "                                        int totalBlocks, int blockWidth)\n",
        "    {\n",
        "        int threadId = blockWidth * blockIdx.x + threadIdx.x;\n",
        "        int nextThreadId = threadId + 1;\n",
        "\n",
        "        int threads = blockWidth * totalBlocks;\n",
        "\n",
        "        *n_start = (threadId * n)/ threads;\n",
        "        *n_end =  (nextThreadId * n)/ threads;\n",
        "    }\n",
        "\n",
        "// nasz funkacja\n",
        "    __device__ float reg_func (float x)\n",
        "    {\n",
        "        return -x*x-x+20;\n",
        "    }\n",
        "\n",
        "    typedef float (*p_func) (float);\n",
        "\n",
        "    __device__ p_func integrale_f = reg_func;\n",
        "\n",
        "\n",
        "// tutaj liczymy calke metoda simpsona\n",
        "    __device__ void integralSimpsonMethod(int totalBlocks, int totalThreads, \n",
        "                    double a, double b, int n, float p_function(float), float* result)\n",
        "    {\n",
        "        *result = 0;\n",
        "\n",
        "        float h = (b - a)/n; \n",
        "        //*result = p_function(a)+p_function(a + h * n);\n",
        "        //parallel\n",
        "        int idx_start;\n",
        "        int idx_end;\n",
        "        initThreadBounds(&idx_start, &idx_end, n-1, totalBlocks, totalThreads);\n",
        "        //parallel_ends\n",
        "        for (int i = idx_start; i < idx_end; i+=2) {\n",
        "            *result +=  ( p_function(a + h*(i-1)) + \n",
        "                          4 * p_function(a + h*(i)) + \n",
        "                          p_function(a + h*(i+1)) ) * h/3;\n",
        "\n",
        "        }   \n",
        "    } \n",
        "\n",
        "\n",
        "    __global__ void integralSimpson(int totalBlocks, int totalThreads,  float* result)\n",
        "    {\n",
        "        float res = 0;\n",
        "\n",
        "        integralSimpsonMethod(totalBlocks, totalThreads, 0, 10, 90, integrale_f, &res);\n",
        "        result[(blockIdx.x*totalThreads + threadIdx.x)] = res;\n",
        "\n",
        "        //printf (\"Simpson method\\n\");\n",
        "    }\n",
        "\n",
        "//zbieramy wszystko w calosc\n",
        "    __host__ void inttest()\n",
        "    {\n",
        "\n",
        "        const int blocksNum = 9;\n",
        "        const int threadNum = 9;\n",
        "\n",
        "        float   *device_resultf; \n",
        "        float   host_resultf[threadNum*blocksNum]={0};\n",
        "\n",
        "\n",
        "        cudaMalloc((void**) &device_resultf, sizeof(float)*threadNum*blocksNum);\n",
        "            integralSimpson<<<blocksNum, threadNum>>>(blocksNum, threadNum, device_resultf);\n",
        "        cudaThreadSynchronize();\n",
        "\n",
        "        cudaMemcpy(host_resultf, device_resultf, sizeof(float) *threadNum*blocksNum, \n",
        "                      cudaMemcpyDeviceToHost);\n",
        "\n",
        "        float sum = 0;\n",
        "        for (int i = 0; i != blocksNum*threadNum; ++i) {\n",
        "            sum += host_resultf[i];\n",
        "            //  printf (\"result in %i cell = %f \\n\", i, host_resultf[i]);\n",
        "        }\n",
        "        printf (\"sum = %f \\n\", sum);\n",
        "        cudaFree(device_resultf);\n",
        "    }\n",
        "\n",
        "int main(int argc, char* argv[])\n",
        "{\n",
        "\n",
        "\n",
        "   inttest();\n",
        "\n",
        "\n",
        "    int i = 3;\n",
        "\n",
        "}"
      ],
      "metadata": {
        "id": "gHkoslXt_UCr"
      },
      "execution_count": null,
      "outputs": []
    },
    {
      "cell_type": "markdown",
      "source": [
        "**metoda prostokatow gpu**"
      ],
      "metadata": {
        "id": "WTfJMRXfgltF"
      }
    },
    {
      "cell_type": "code",
      "source": [
        "%%cu\n",
        "#include <stdio.h>\n",
        "\n",
        "__global__ void integrateKernel(double a, double b, int n, double *sum) {\n",
        "  int tid = blockIdx.x * blockDim.x + threadIdx.x;\n",
        "  double dx = (b - a) / n;\n",
        "  if (tid < n) {\n",
        "    double x = a + dx * tid;\n",
        "    double funcVal =-x*x-x+20; // nasza funkcja\n",
        "    sum[tid] = funcVal * dx;\n",
        "  }\n",
        "  __syncthreads();\n",
        "}\n",
        "\n",
        "int main() {\n",
        "  double a = 0.0; // Lower limit of integration\n",
        "  double b = 2.0; // Upper limit of integration\n",
        "  int n = 100; // Number of intervals\n",
        "\n",
        "  // alokujemy pamiec\n",
        "  double *h_sum = new double[n];\n",
        "  double *d_sum;\n",
        "  cudaMalloc(&d_sum, n * sizeof(double));\n",
        "  cudaMemcpy(d_sum, h_sum, n * sizeof(double), cudaMemcpyHostToDevice);\n",
        "\n",
        "  // tutaj uruchamiamy metode\n",
        "  integrateKernel<<<1, n>>>(a, b, n, d_sum);\n",
        "  \n",
        "  // pamiec z GPU do CPU\n",
        "  cudaMemcpy(h_sum, d_sum, n * sizeof(double), cudaMemcpyDeviceToHost);\n",
        "\n",
        "  // sumujemy\n",
        "  double sum = 0.0;\n",
        "  for (int i = 0; i < n; i++) {\n",
        "    sum += h_sum[i];\n",
        "  }\n",
        "  \n",
        "  printf(\"The integral is: %f\\n\", sum);\n",
        "\n",
        "  cudaFree(d_sum);\n",
        "\n",
        "  return 0;\n",
        "}"
      ],
      "metadata": {
        "id": "pPOgWSJvIJut"
      },
      "execution_count": null,
      "outputs": []
    }
  ]
}